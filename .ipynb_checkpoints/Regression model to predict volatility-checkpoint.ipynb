{
 "cells": [
  {
   "cell_type": "markdown",
   "id": "0dafd1fd",
   "metadata": {},
   "source": [
    "### Imports"
   ]
  },
  {
   "cell_type": "code",
   "execution_count": 1,
   "id": "a59a4305",
   "metadata": {},
   "outputs": [],
   "source": [
    "import numpy as np\n",
    "import pandas as pd\n",
    "import seaborn as sns\n",
    "from matplotlib import pyplot as plt"
   ]
  },
  {
   "cell_type": "markdown",
   "id": "714dccaa",
   "metadata": {},
   "source": [
    "#### Reading in the data"
   ]
  },
  {
   "cell_type": "code",
   "execution_count": 2,
   "id": "454cf9c5",
   "metadata": {},
   "outputs": [],
   "source": [
    "df = pd.read_csv('bitcoin.csv')"
   ]
  },
  {
   "cell_type": "code",
   "execution_count": 3,
   "id": "851aa957",
   "metadata": {},
   "outputs": [
    {
     "data": {
      "text/html": [
       "<div>\n",
       "<style scoped>\n",
       "    .dataframe tbody tr th:only-of-type {\n",
       "        vertical-align: middle;\n",
       "    }\n",
       "\n",
       "    .dataframe tbody tr th {\n",
       "        vertical-align: top;\n",
       "    }\n",
       "\n",
       "    .dataframe thead th {\n",
       "        text-align: right;\n",
       "    }\n",
       "</style>\n",
       "<table border=\"1\" class=\"dataframe\">\n",
       "  <thead>\n",
       "    <tr style=\"text-align: right;\">\n",
       "      <th></th>\n",
       "      <th>Date</th>\n",
       "      <th>Open</th>\n",
       "      <th>High</th>\n",
       "      <th>Low</th>\n",
       "      <th>Close</th>\n",
       "      <th>Volume</th>\n",
       "      <th>Currency</th>\n",
       "    </tr>\n",
       "  </thead>\n",
       "  <tbody>\n",
       "    <tr>\n",
       "      <th>0</th>\n",
       "      <td>2010-07-18</td>\n",
       "      <td>0.0</td>\n",
       "      <td>0.1</td>\n",
       "      <td>0.1</td>\n",
       "      <td>0.1</td>\n",
       "      <td>75</td>\n",
       "      <td>USD</td>\n",
       "    </tr>\n",
       "    <tr>\n",
       "      <th>1</th>\n",
       "      <td>2010-07-19</td>\n",
       "      <td>0.1</td>\n",
       "      <td>0.1</td>\n",
       "      <td>0.1</td>\n",
       "      <td>0.1</td>\n",
       "      <td>574</td>\n",
       "      <td>USD</td>\n",
       "    </tr>\n",
       "    <tr>\n",
       "      <th>2</th>\n",
       "      <td>2010-07-20</td>\n",
       "      <td>0.1</td>\n",
       "      <td>0.1</td>\n",
       "      <td>0.1</td>\n",
       "      <td>0.1</td>\n",
       "      <td>262</td>\n",
       "      <td>USD</td>\n",
       "    </tr>\n",
       "    <tr>\n",
       "      <th>3</th>\n",
       "      <td>2010-07-21</td>\n",
       "      <td>0.1</td>\n",
       "      <td>0.1</td>\n",
       "      <td>0.1</td>\n",
       "      <td>0.1</td>\n",
       "      <td>575</td>\n",
       "      <td>USD</td>\n",
       "    </tr>\n",
       "    <tr>\n",
       "      <th>4</th>\n",
       "      <td>2010-07-22</td>\n",
       "      <td>0.1</td>\n",
       "      <td>0.1</td>\n",
       "      <td>0.1</td>\n",
       "      <td>0.1</td>\n",
       "      <td>2160</td>\n",
       "      <td>USD</td>\n",
       "    </tr>\n",
       "  </tbody>\n",
       "</table>\n",
       "</div>"
      ],
      "text/plain": [
       "         Date  Open  High  Low  Close  Volume Currency\n",
       "0  2010-07-18   0.0   0.1  0.1    0.1      75      USD\n",
       "1  2010-07-19   0.1   0.1  0.1    0.1     574      USD\n",
       "2  2010-07-20   0.1   0.1  0.1    0.1     262      USD\n",
       "3  2010-07-21   0.1   0.1  0.1    0.1     575      USD\n",
       "4  2010-07-22   0.1   0.1  0.1    0.1    2160      USD"
      ]
     },
     "execution_count": 3,
     "metadata": {},
     "output_type": "execute_result"
    }
   ],
   "source": [
    "df.head()"
   ]
  },
  {
   "cell_type": "markdown",
   "id": "dfb9c554",
   "metadata": {},
   "source": [
    "#### Data Preprocessing"
   ]
  },
  {
   "cell_type": "code",
   "execution_count": 4,
   "id": "062c0e1a",
   "metadata": {
    "scrolled": true
   },
   "outputs": [
    {
     "data": {
      "text/plain": [
       "Date        False\n",
       "Open        False\n",
       "High        False\n",
       "Low         False\n",
       "Close       False\n",
       "Volume      False\n",
       "Currency    False\n",
       "dtype: bool"
      ]
     },
     "execution_count": 4,
     "metadata": {},
     "output_type": "execute_result"
    }
   ],
   "source": [
    "df.isnull().any()"
   ]
  },
  {
   "cell_type": "code",
   "execution_count": 25,
   "id": "3ef72482",
   "metadata": {},
   "outputs": [],
   "source": [
    "# convert 'Date' column to datetime format\n",
    "\n",
    "df['Date'] = pd.to_datetime(df['Date'])\n",
    "df['Date']= df['Date'].values.astype(\"float64\")\n"
   ]
  },
  {
   "cell_type": "code",
   "execution_count": 19,
   "id": "488c8198",
   "metadata": {},
   "outputs": [
    {
     "data": {
      "text/plain": [
       "0      2010-07-18\n",
       "1      2010-07-19\n",
       "2      2010-07-20\n",
       "3      2010-07-21\n",
       "4      2010-07-22\n",
       "          ...    \n",
       "4415   2022-08-19\n",
       "4416   2022-08-20\n",
       "4417   2022-08-21\n",
       "4418   2022-08-22\n",
       "4419   2022-08-23\n",
       "Name: Date, Length: 4420, dtype: datetime64[ns]"
      ]
     },
     "execution_count": 19,
     "metadata": {},
     "output_type": "execute_result"
    }
   ],
   "source": [
    "df['Date']"
   ]
  },
  {
   "cell_type": "code",
   "execution_count": 6,
   "id": "8eb3bf0c",
   "metadata": {},
   "outputs": [
    {
     "name": "stdout",
     "output_type": "stream",
     "text": [
      "<class 'pandas.core.frame.DataFrame'>\n",
      "RangeIndex: 4420 entries, 0 to 4419\n",
      "Data columns (total 7 columns):\n",
      " #   Column    Non-Null Count  Dtype  \n",
      "---  ------    --------------  -----  \n",
      " 0   Date      4420 non-null   object \n",
      " 1   Open      4420 non-null   float64\n",
      " 2   High      4420 non-null   float64\n",
      " 3   Low       4420 non-null   float64\n",
      " 4   Close     4420 non-null   float64\n",
      " 5   Volume    4420 non-null   int64  \n",
      " 6   Currency  4420 non-null   object \n",
      "dtypes: float64(4), int64(1), object(2)\n",
      "memory usage: 241.8+ KB\n"
     ]
    }
   ],
   "source": [
    "df.info()"
   ]
  },
  {
   "cell_type": "code",
   "execution_count": 7,
   "id": "c54e984d",
   "metadata": {
    "scrolled": true
   },
   "outputs": [
    {
     "data": {
      "text/html": [
       "<div>\n",
       "<style scoped>\n",
       "    .dataframe tbody tr th:only-of-type {\n",
       "        vertical-align: middle;\n",
       "    }\n",
       "\n",
       "    .dataframe tbody tr th {\n",
       "        vertical-align: top;\n",
       "    }\n",
       "\n",
       "    .dataframe thead th {\n",
       "        text-align: right;\n",
       "    }\n",
       "</style>\n",
       "<table border=\"1\" class=\"dataframe\">\n",
       "  <thead>\n",
       "    <tr style=\"text-align: right;\">\n",
       "      <th></th>\n",
       "      <th>Open</th>\n",
       "      <th>High</th>\n",
       "      <th>Low</th>\n",
       "      <th>Close</th>\n",
       "      <th>Volume</th>\n",
       "    </tr>\n",
       "  </thead>\n",
       "  <tbody>\n",
       "    <tr>\n",
       "      <th>count</th>\n",
       "      <td>4420.000000</td>\n",
       "      <td>4420.000000</td>\n",
       "      <td>4420.000000</td>\n",
       "      <td>4420.000000</td>\n",
       "      <td>4.420000e+03</td>\n",
       "    </tr>\n",
       "    <tr>\n",
       "      <th>mean</th>\n",
       "      <td>8302.221855</td>\n",
       "      <td>8531.971380</td>\n",
       "      <td>8043.473869</td>\n",
       "      <td>8306.969457</td>\n",
       "      <td>1.395788e+07</td>\n",
       "    </tr>\n",
       "    <tr>\n",
       "      <th>std</th>\n",
       "      <td>14598.398937</td>\n",
       "      <td>14992.605971</td>\n",
       "      <td>14146.499234</td>\n",
       "      <td>14599.046649</td>\n",
       "      <td>1.645973e+08</td>\n",
       "    </tr>\n",
       "    <tr>\n",
       "      <th>min</th>\n",
       "      <td>0.000000</td>\n",
       "      <td>0.100000</td>\n",
       "      <td>0.000000</td>\n",
       "      <td>0.100000</td>\n",
       "      <td>0.000000e+00</td>\n",
       "    </tr>\n",
       "    <tr>\n",
       "      <th>25%</th>\n",
       "      <td>122.500000</td>\n",
       "      <td>129.975000</td>\n",
       "      <td>118.300000</td>\n",
       "      <td>122.800000</td>\n",
       "      <td>3.013600e+04</td>\n",
       "    </tr>\n",
       "    <tr>\n",
       "      <th>50%</th>\n",
       "      <td>683.600000</td>\n",
       "      <td>706.500000</td>\n",
       "      <td>657.550000</td>\n",
       "      <td>685.000000</td>\n",
       "      <td>6.762050e+04</td>\n",
       "    </tr>\n",
       "    <tr>\n",
       "      <th>75%</th>\n",
       "      <td>8877.250000</td>\n",
       "      <td>9122.700000</td>\n",
       "      <td>8666.900000</td>\n",
       "      <td>8886.075000</td>\n",
       "      <td>1.769402e+05</td>\n",
       "    </tr>\n",
       "    <tr>\n",
       "      <th>max</th>\n",
       "      <td>67528.700000</td>\n",
       "      <td>68990.600000</td>\n",
       "      <td>66334.900000</td>\n",
       "      <td>67527.900000</td>\n",
       "      <td>4.468697e+09</td>\n",
       "    </tr>\n",
       "  </tbody>\n",
       "</table>\n",
       "</div>"
      ],
      "text/plain": [
       "               Open          High           Low         Close        Volume\n",
       "count   4420.000000   4420.000000   4420.000000   4420.000000  4.420000e+03\n",
       "mean    8302.221855   8531.971380   8043.473869   8306.969457  1.395788e+07\n",
       "std    14598.398937  14992.605971  14146.499234  14599.046649  1.645973e+08\n",
       "min        0.000000      0.100000      0.000000      0.100000  0.000000e+00\n",
       "25%      122.500000    129.975000    118.300000    122.800000  3.013600e+04\n",
       "50%      683.600000    706.500000    657.550000    685.000000  6.762050e+04\n",
       "75%     8877.250000   9122.700000   8666.900000   8886.075000  1.769402e+05\n",
       "max    67528.700000  68990.600000  66334.900000  67527.900000  4.468697e+09"
      ]
     },
     "execution_count": 7,
     "metadata": {},
     "output_type": "execute_result"
    }
   ],
   "source": [
    "df.describe()"
   ]
  },
  {
   "cell_type": "markdown",
   "id": "080fe643",
   "metadata": {},
   "source": [
    "###  Feature Engineering"
   ]
  },
  {
   "cell_type": "code",
   "execution_count": 8,
   "id": "abf1674f",
   "metadata": {},
   "outputs": [
    {
     "data": {
      "text/plain": [
       "4415    2370.3\n",
       "4416    -308.2\n",
       "4417    -378.3\n",
       "4418     100.5\n",
       "4419     107.5\n",
       "Name: Difference, dtype: float64"
      ]
     },
     "execution_count": 8,
     "metadata": {},
     "output_type": "execute_result"
    }
   ],
   "source": [
    "# proposed target variable is the difference betwwen the 'open' and 'close' columns\n",
    "\n",
    "df['Difference'] = df['Open'] - df['Close']\n",
    "\n",
    "# Look at first 5 entries.\n",
    "df['Difference'].tail()"
   ]
  },
  {
   "cell_type": "code",
   "execution_count": 9,
   "id": "66a89447",
   "metadata": {},
   "outputs": [],
   "source": [
    "# 'Currency' column is dropped because it does not add any information to the dataset.\n",
    "\n",
    "df= df.drop('Currency', axis=1)"
   ]
  },
  {
   "cell_type": "code",
   "execution_count": 10,
   "id": "b2a8b192",
   "metadata": {
    "scrolled": true
   },
   "outputs": [
    {
     "data": {
      "text/html": [
       "<div>\n",
       "<style scoped>\n",
       "    .dataframe tbody tr th:only-of-type {\n",
       "        vertical-align: middle;\n",
       "    }\n",
       "\n",
       "    .dataframe tbody tr th {\n",
       "        vertical-align: top;\n",
       "    }\n",
       "\n",
       "    .dataframe thead th {\n",
       "        text-align: right;\n",
       "    }\n",
       "</style>\n",
       "<table border=\"1\" class=\"dataframe\">\n",
       "  <thead>\n",
       "    <tr style=\"text-align: right;\">\n",
       "      <th></th>\n",
       "      <th>Open</th>\n",
       "      <th>High</th>\n",
       "      <th>Low</th>\n",
       "      <th>Close</th>\n",
       "      <th>Volume</th>\n",
       "      <th>Difference</th>\n",
       "    </tr>\n",
       "  </thead>\n",
       "  <tbody>\n",
       "    <tr>\n",
       "      <th>Open</th>\n",
       "      <td>1.000000</td>\n",
       "      <td>0.999589</td>\n",
       "      <td>0.999221</td>\n",
       "      <td>0.998996</td>\n",
       "      <td>0.182761</td>\n",
       "      <td>0.021419</td>\n",
       "    </tr>\n",
       "    <tr>\n",
       "      <th>High</th>\n",
       "      <td>0.999589</td>\n",
       "      <td>1.000000</td>\n",
       "      <td>0.999158</td>\n",
       "      <td>0.999556</td>\n",
       "      <td>0.182589</td>\n",
       "      <td>-0.000251</td>\n",
       "    </tr>\n",
       "    <tr>\n",
       "      <th>Low</th>\n",
       "      <td>0.999221</td>\n",
       "      <td>0.999158</td>\n",
       "      <td>1.000000</td>\n",
       "      <td>0.999468</td>\n",
       "      <td>0.183437</td>\n",
       "      <td>-0.006492</td>\n",
       "    </tr>\n",
       "    <tr>\n",
       "      <th>Close</th>\n",
       "      <td>0.998996</td>\n",
       "      <td>0.999556</td>\n",
       "      <td>0.999468</td>\n",
       "      <td>1.000000</td>\n",
       "      <td>0.182242</td>\n",
       "      <td>-0.023398</td>\n",
       "    </tr>\n",
       "    <tr>\n",
       "      <th>Volume</th>\n",
       "      <td>0.182761</td>\n",
       "      <td>0.182589</td>\n",
       "      <td>0.183437</td>\n",
       "      <td>0.182242</td>\n",
       "      <td>1.000000</td>\n",
       "      <td>0.011404</td>\n",
       "    </tr>\n",
       "    <tr>\n",
       "      <th>Difference</th>\n",
       "      <td>0.021419</td>\n",
       "      <td>-0.000251</td>\n",
       "      <td>-0.006492</td>\n",
       "      <td>-0.023398</td>\n",
       "      <td>0.011404</td>\n",
       "      <td>1.000000</td>\n",
       "    </tr>\n",
       "  </tbody>\n",
       "</table>\n",
       "</div>"
      ],
      "text/plain": [
       "                Open      High       Low     Close    Volume  Difference\n",
       "Open        1.000000  0.999589  0.999221  0.998996  0.182761    0.021419\n",
       "High        0.999589  1.000000  0.999158  0.999556  0.182589   -0.000251\n",
       "Low         0.999221  0.999158  1.000000  0.999468  0.183437   -0.006492\n",
       "Close       0.998996  0.999556  0.999468  1.000000  0.182242   -0.023398\n",
       "Volume      0.182761  0.182589  0.183437  0.182242  1.000000    0.011404\n",
       "Difference  0.021419 -0.000251 -0.006492 -0.023398  0.011404    1.000000"
      ]
     },
     "execution_count": 10,
     "metadata": {},
     "output_type": "execute_result"
    }
   ],
   "source": [
    "df.corr()"
   ]
  },
  {
   "cell_type": "raw",
   "id": "b08080f8",
   "metadata": {},
   "source": [
    "The proposed target column 'Difference' has a high negative correlation, but will still be useful in model training because of the erratic nature of bitcoin in the latter years."
   ]
  },
  {
   "cell_type": "markdown",
   "id": "e69c2276",
   "metadata": {},
   "source": [
    "###  Data Visualization"
   ]
  },
  {
   "cell_type": "code",
   "execution_count": 12,
   "id": "a7bd2aab",
   "metadata": {},
   "outputs": [
    {
     "data": {
      "image/png": "[encoded data removed]",
      "text/plain": [
       "<Figure size 640x480 with 1 Axes>"
      ]
     },
     "metadata": {},
     "output_type": "display_data"
    }
   ],
   "source": [
    "df.plot.line(x=\"Date\", y=\"Volume\", title=\"Line Plot of Volume against date\")\n",
    "\n",
    "plt.show()"
   ]
  },
  {
   "cell_type": "raw",
   "id": "ebac72e4",
   "metadata": {},
   "source": [
    "It is observed that the year '2022' produced the highest volume of bitcoin"
   ]
  },
  {
   "cell_type": "code",
   "execution_count": 17,
   "id": "9bb43ac3",
   "metadata": {},
   "outputs": [
    {
     "data": {
      "image/png": "[encoded data removed]",
      "text/plain": [
       "<Figure size 640x480 with 1 Axes>"
      ]
     },
     "metadata": {},
     "output_type": "display_data"
    }
   ],
   "source": [
    "plt.scatter(df['Open'], df['Close'])\n",
    "plt.ylabel(\"Open\")\n",
    "plt.xlabel(\"Close\")\n",
    "plt.title('Scatter plot of Open against Close')\n",
    "plt.show()"
   ]
  },
  {
   "cell_type": "code",
   "execution_count": 18,
   "id": "9e425eb3",
   "metadata": {},
   "outputs": [
    {
     "data": {
      "image/png": "[encoded data removed]",
      "text/plain": [
       "<Figure size 640x480 with 1 Axes>"
      ]
     },
     "metadata": {},
     "output_type": "display_data"
    }
   ],
   "source": [
    "plt.scatter(df['High'], df['Low'])\n",
    "plt.ylabel(\"High\")\n",
    "plt.xlabel(\"Low\")\n",
    "plt.title('Scatter plot of High against Low')\n",
    "plt.show()"
   ]
  },
  {
   "cell_type": "markdown",
   "id": "3eee84e3",
   "metadata": {},
   "source": [
    "#### Train test Split"
   ]
  },
  {
   "cell_type": "code",
   "execution_count": 26,
   "id": "1b7252f5",
   "metadata": {},
   "outputs": [],
   "source": [
    "from sklearn.model_selection import train_test_split"
   ]
  },
  {
   "cell_type": "code",
   "execution_count": 27,
   "id": "070ca92c",
   "metadata": {},
   "outputs": [],
   "source": [
    "y = df['Difference']\n",
    "X = df.drop('Difference', axis=1)"
   ]
  },
  {
   "cell_type": "code",
   "execution_count": 28,
   "id": "991fce79",
   "metadata": {},
   "outputs": [],
   "source": [
    "X_train, X_test, y_train, y_test = train_test_split(X, y, test_size=0.2, random_state=42)"
   ]
  },
  {
   "cell_type": "raw",
   "id": "c1c15a0a",
   "metadata": {},
   "source": [
    "The random state hyperparameter in the train_test_split() function controls the shuffling process, in this model, it is set to 42."
   ]
  },
  {
   "cell_type": "markdown",
   "id": "2ccaae7c",
   "metadata": {},
   "source": [
    "### Fitting and evaluating the model"
   ]
  },
  {
   "cell_type": "markdown",
   "id": "7f0bb0ef",
   "metadata": {},
   "source": [
    "#### Random Forest"
   ]
  },
  {
   "cell_type": "markdown",
   "id": "a100834e",
   "metadata": {},
   "source": [
    "We first create an instance of the Random Forest model, with the default parameters. We then fit this to our training data. We pass both the features and the target variable, so the model can learn."
   ]
  },
  {
   "cell_type": "code",
   "execution_count": 29,
   "id": "7c9e4fa4",
   "metadata": {},
   "outputs": [],
   "source": [
    "# Import the random forest module\n",
    "from sklearn.ensemble import RandomForestRegressor"
   ]
  },
  {
   "cell_type": "code",
   "execution_count": 30,
   "id": "7c567a20",
   "metadata": {},
   "outputs": [
    {
     "data": {
      "text/plain": [
       "RandomForestRegressor(max_depth=5, random_state=42)"
      ]
     },
     "execution_count": 30,
     "metadata": {},
     "output_type": "execute_result"
    }
   ],
   "source": [
    "# Declare the model object\n",
    "rf = RandomForestRegressor(n_estimators=100, max_depth=5, random_state=42)\n",
    "rf.fit(X_train, y_train)"
   ]
  },
  {
   "cell_type": "code",
   "execution_count": 31,
   "id": "0deda7ad",
   "metadata": {},
   "outputs": [],
   "source": [
    "y_pred = rf.predict(X_train)"
   ]
  },
  {
   "cell_type": "code",
   "execution_count": 32,
   "id": "4d3dcaf8",
   "metadata": {
    "scrolled": true
   },
   "outputs": [
    {
     "data": {
      "text/plain": [
       "array([ -7.70998819, 185.73683073,  -7.70998819, ...,  -7.70998819,\n",
       "        16.92313134,  -7.70998819])"
      ]
     },
     "execution_count": 32,
     "metadata": {},
     "output_type": "execute_result"
    }
   ],
   "source": [
    "y_pred"
   ]
  },
  {
   "cell_type": "markdown",
   "id": "f135296d",
   "metadata": {},
   "source": [
    "#### Model Evaluation and testing"
   ]
  },
  {
   "cell_type": "code",
   "execution_count": 33,
   "id": "a7ca93e2",
   "metadata": {},
   "outputs": [],
   "source": [
    "from sklearn.metrics import mean_squared_error"
   ]
  },
  {
   "cell_type": "code",
   "execution_count": 34,
   "id": "993d08c4",
   "metadata": {},
   "outputs": [
    {
     "name": "stdout",
     "output_type": "stream",
     "text": [
      "RMSE: 472.6165044926401\n"
     ]
    }
   ],
   "source": [
    "print(\"RMSE:\",np.sqrt(mean_squared_error(y_train,y_pred)))"
   ]
  },
  {
   "cell_type": "code",
   "execution_count": 45,
   "id": "280f6927",
   "metadata": {},
   "outputs": [],
   "source": [
    "rf_pred = rf.predict(X_test)"
   ]
  },
  {
   "cell_type": "code",
   "execution_count": 46,
   "id": "de996674",
   "metadata": {},
   "outputs": [
    {
     "name": "stdout",
     "output_type": "stream",
     "text": [
      "RMSE: 550.9597825808812\n"
     ]
    }
   ],
   "source": [
    "print(\"RMSE:\",np.sqrt(mean_squared_error(y_test,rf_pred)))"
   ]
  },
  {
   "cell_type": "markdown",
   "id": "e4d83331",
   "metadata": {},
   "source": [
    "Plot predicted output vs expected output."
   ]
  },
  {
   "cell_type": "code",
   "execution_count": 47,
   "id": "be3ac407",
   "metadata": {},
   "outputs": [
    {
     "data": {
      "image/png": "[encoded data removed]",
      "text/plain": [
       "<Figure size 500x500 with 1 Axes>"
      ]
     },
     "metadata": {},
     "output_type": "display_data"
    }
   ],
   "source": [
    "# Create figure and axes\n",
    "f, ax = plt.subplots(figsize=(5,5))\n",
    "\n",
    "# Plot on axes\n",
    "ax.set_title('Actual vs Predicted')\n",
    "ax.set_xlabel('Actual')\n",
    "ax.set_ylabel('Predicted')\n",
    "ax.scatter(y_test,rf_pred)\n",
    "ax.plot(y_test,y_test,'r')\n",
    "plt.show()"
   ]
  },
  {
   "cell_type": "markdown",
   "id": "1164c494",
   "metadata": {},
   "source": [
    "#### Support Vector Regressor "
   ]
  },
  {
   "cell_type": "code",
   "execution_count": 41,
   "id": "dee2805c",
   "metadata": {},
   "outputs": [],
   "source": [
    "from sklearn import svm"
   ]
  },
  {
   "cell_type": "code",
   "execution_count": 42,
   "id": "a296260e",
   "metadata": {},
   "outputs": [
    {
     "data": {
      "text/plain": [
       "SVR()"
      ]
     },
     "execution_count": 42,
     "metadata": {},
     "output_type": "execute_result"
    }
   ],
   "source": [
    "_svm = svm.SVR()\n",
    "_svm.fit(X, y)"
   ]
  },
  {
   "cell_type": "code",
   "execution_count": 43,
   "id": "63ae64f2",
   "metadata": {},
   "outputs": [],
   "source": [
    "svm_pred = _svm.predict(X_test)"
   ]
  },
  {
   "cell_type": "code",
   "execution_count": 44,
   "id": "ed09b714",
   "metadata": {},
   "outputs": [
    {
     "name": "stdout",
     "output_type": "stream",
     "text": [
      "RMSE: 634.944793430691\n"
     ]
    }
   ],
   "source": [
    "print(\"RMSE:\",np.sqrt(mean_squared_error(y_test,svm_pred)))"
   ]
  },
  {
   "cell_type": "markdown",
   "id": "e0ed8885",
   "metadata": {},
   "source": [
    "### Random Forest vs SVM"
   ]
  },
  {
   "cell_type": "code",
   "execution_count": null,
   "id": "2e753ecf",
   "metadata": {},
   "outputs": [],
   "source": [
    "# Create figure and axes\n",
    "f, ax = plt.subplots(figsize=(15,5), nrows=1, ncols=2, sharey=True)\n",
    "\n",
    "# Create list of titles and predictions to use in for loop\n",
    "pred = [rf_pred, svm_pred]\n",
    "title = ['Random Forest', ]\n",
    "\n",
    "# Loop through all axes to plot each model's results \n",
    "for i in range(3):\n",
    "    rmse = round(np.sqrt(mean_squared_error(pred[i],y_test)))\n",
    "    ax[i].set_title(title[i]+\"  (RMSE: \"+str(rmse)+ \")\")\n",
    "    ax[i].set_xlabel('Actual')\n",
    "    ax[i].set_ylabel('Predicted')\n",
    "    ax[i].plot(y_test,y_test,'r')\n",
    "    ax[i].scatter(y_test,pred[i]) "
   ]
  }
 ],
 "metadata": {
  "kernelspec": {
   "display_name": "Python 3 (ipykernel)",
   "language": "python",
   "name": "python3"
  },
  "language_info": {
   "codemirror_mode": {
    "name": "ipython",
    "version": 3
   },
   "file_extension": ".py",
   "mimetype": "text/x-python",
   "name": "python",
   "nbconvert_exporter": "python",
   "pygments_lexer": "ipython3",
   "version": "3.9.13"
  }
 },
 "nbformat": 4,
 "nbformat_minor": 5
}
