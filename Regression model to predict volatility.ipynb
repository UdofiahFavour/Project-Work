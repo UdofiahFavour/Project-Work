{
 "cells": [
  {
   "cell_type": "markdown",
   "id": "0dafd1fd",
   "metadata": {},
   "source": [
    "### Imports"
   ]
  },
  {
   "cell_type": "code",
   "execution_count": 1,
   "id": "a59a4305",
   "metadata": {},
   "outputs": [],
   "source": [
    "import numpy as np\n",
    "import pandas as pd\n",
    "\n",
    "import seaborn as sns\n",
    "from matplotlib import pyplot as plt"
   ]
  },
  {
   "cell_type": "markdown",
   "id": "714dccaa",
   "metadata": {},
   "source": [
    "#### Reading in the data"
   ]
  },
  {
   "cell_type": "code",
   "execution_count": 2,
   "id": "454cf9c5",
   "metadata": {},
   "outputs": [],
   "source": [
    "df = pd.read_csv('bitcoin.csv')"
   ]
  },
  {
   "cell_type": "code",
   "execution_count": 3,
   "id": "851aa957",
   "metadata": {},
   "outputs": [
    {
     "data": {
      "text/html": [
       "<div>\n",
       "<style scoped>\n",
       "    .dataframe tbody tr th:only-of-type {\n",
       "        vertical-align: middle;\n",
       "    }\n",
       "\n",
       "    .dataframe tbody tr th {\n",
       "        vertical-align: top;\n",
       "    }\n",
       "\n",
       "    .dataframe thead th {\n",
       "        text-align: right;\n",
       "    }\n",
       "</style>\n",
       "<table border=\"1\" class=\"dataframe\">\n",
       "  <thead>\n",
       "    <tr style=\"text-align: right;\">\n",
       "      <th></th>\n",
       "      <th>Date</th>\n",
       "      <th>Open</th>\n",
       "      <th>High</th>\n",
       "      <th>Low</th>\n",
       "      <th>Close</th>\n",
       "      <th>Volume</th>\n",
       "      <th>Currency</th>\n",
       "    </tr>\n",
       "  </thead>\n",
       "  <tbody>\n",
       "    <tr>\n",
       "      <th>0</th>\n",
       "      <td>2010-07-18</td>\n",
       "      <td>0.0</td>\n",
       "      <td>0.1</td>\n",
       "      <td>0.1</td>\n",
       "      <td>0.1</td>\n",
       "      <td>75</td>\n",
       "      <td>USD</td>\n",
       "    </tr>\n",
       "    <tr>\n",
       "      <th>1</th>\n",
       "      <td>2010-07-19</td>\n",
       "      <td>0.1</td>\n",
       "      <td>0.1</td>\n",
       "      <td>0.1</td>\n",
       "      <td>0.1</td>\n",
       "      <td>574</td>\n",
       "      <td>USD</td>\n",
       "    </tr>\n",
       "    <tr>\n",
       "      <th>2</th>\n",
       "      <td>2010-07-20</td>\n",
       "      <td>0.1</td>\n",
       "      <td>0.1</td>\n",
       "      <td>0.1</td>\n",
       "      <td>0.1</td>\n",
       "      <td>262</td>\n",
       "      <td>USD</td>\n",
       "    </tr>\n",
       "    <tr>\n",
       "      <th>3</th>\n",
       "      <td>2010-07-21</td>\n",
       "      <td>0.1</td>\n",
       "      <td>0.1</td>\n",
       "      <td>0.1</td>\n",
       "      <td>0.1</td>\n",
       "      <td>575</td>\n",
       "      <td>USD</td>\n",
       "    </tr>\n",
       "    <tr>\n",
       "      <th>4</th>\n",
       "      <td>2010-07-22</td>\n",
       "      <td>0.1</td>\n",
       "      <td>0.1</td>\n",
       "      <td>0.1</td>\n",
       "      <td>0.1</td>\n",
       "      <td>2160</td>\n",
       "      <td>USD</td>\n",
       "    </tr>\n",
       "  </tbody>\n",
       "</table>\n",
       "</div>"
      ],
      "text/plain": [
       "         Date  Open  High  Low  Close  Volume Currency\n",
       "0  2010-07-18   0.0   0.1  0.1    0.1      75      USD\n",
       "1  2010-07-19   0.1   0.1  0.1    0.1     574      USD\n",
       "2  2010-07-20   0.1   0.1  0.1    0.1     262      USD\n",
       "3  2010-07-21   0.1   0.1  0.1    0.1     575      USD\n",
       "4  2010-07-22   0.1   0.1  0.1    0.1    2160      USD"
      ]
     },
     "execution_count": 3,
     "metadata": {},
     "output_type": "execute_result"
    }
   ],
   "source": [
    "df.head()"
   ]
  },
  {
   "cell_type": "code",
   "execution_count": 4,
   "id": "16318b3d",
   "metadata": {},
   "outputs": [
    {
     "data": {
      "text/html": [
       "<div>\n",
       "<style scoped>\n",
       "    .dataframe tbody tr th:only-of-type {\n",
       "        vertical-align: middle;\n",
       "    }\n",
       "\n",
       "    .dataframe tbody tr th {\n",
       "        vertical-align: top;\n",
       "    }\n",
       "\n",
       "    .dataframe thead th {\n",
       "        text-align: right;\n",
       "    }\n",
       "</style>\n",
       "<table border=\"1\" class=\"dataframe\">\n",
       "  <thead>\n",
       "    <tr style=\"text-align: right;\">\n",
       "      <th></th>\n",
       "      <th>Date</th>\n",
       "      <th>Open</th>\n",
       "      <th>High</th>\n",
       "      <th>Low</th>\n",
       "      <th>Close</th>\n",
       "      <th>Volume</th>\n",
       "      <th>Currency</th>\n",
       "    </tr>\n",
       "  </thead>\n",
       "  <tbody>\n",
       "    <tr>\n",
       "      <th>4415</th>\n",
       "      <td>2022-08-19</td>\n",
       "      <td>23201.6</td>\n",
       "      <td>23202.3</td>\n",
       "      <td>20807.8</td>\n",
       "      <td>20831.3</td>\n",
       "      <td>339472</td>\n",
       "      <td>USD</td>\n",
       "    </tr>\n",
       "    <tr>\n",
       "      <th>4416</th>\n",
       "      <td>2022-08-20</td>\n",
       "      <td>20830.7</td>\n",
       "      <td>21357.4</td>\n",
       "      <td>20784.8</td>\n",
       "      <td>21138.9</td>\n",
       "      <td>206943</td>\n",
       "      <td>USD</td>\n",
       "    </tr>\n",
       "    <tr>\n",
       "      <th>4417</th>\n",
       "      <td>2022-08-21</td>\n",
       "      <td>21138.9</td>\n",
       "      <td>21692.4</td>\n",
       "      <td>21077.4</td>\n",
       "      <td>21517.2</td>\n",
       "      <td>177522</td>\n",
       "      <td>USD</td>\n",
       "    </tr>\n",
       "    <tr>\n",
       "      <th>4418</th>\n",
       "      <td>2022-08-22</td>\n",
       "      <td>21516.8</td>\n",
       "      <td>21517.4</td>\n",
       "      <td>20912.1</td>\n",
       "      <td>21416.3</td>\n",
       "      <td>251833</td>\n",
       "      <td>USD</td>\n",
       "    </tr>\n",
       "    <tr>\n",
       "      <th>4419</th>\n",
       "      <td>2022-08-23</td>\n",
       "      <td>21416.5</td>\n",
       "      <td>21458.2</td>\n",
       "      <td>21271.2</td>\n",
       "      <td>21309.0</td>\n",
       "      <td>251695</td>\n",
       "      <td>USD</td>\n",
       "    </tr>\n",
       "  </tbody>\n",
       "</table>\n",
       "</div>"
      ],
      "text/plain": [
       "            Date     Open     High      Low    Close  Volume Currency\n",
       "4415  2022-08-19  23201.6  23202.3  20807.8  20831.3  339472      USD\n",
       "4416  2022-08-20  20830.7  21357.4  20784.8  21138.9  206943      USD\n",
       "4417  2022-08-21  21138.9  21692.4  21077.4  21517.2  177522      USD\n",
       "4418  2022-08-22  21516.8  21517.4  20912.1  21416.3  251833      USD\n",
       "4419  2022-08-23  21416.5  21458.2  21271.2  21309.0  251695      USD"
      ]
     },
     "execution_count": 4,
     "metadata": {},
     "output_type": "execute_result"
    }
   ],
   "source": [
    "df.tail()"
   ]
  },
  {
   "cell_type": "markdown",
   "id": "dfb9c554",
   "metadata": {},
   "source": [
    "#### Data Preprocessing"
   ]
  },
  {
   "cell_type": "code",
   "execution_count": 5,
   "id": "062c0e1a",
   "metadata": {
    "scrolled": true
   },
   "outputs": [
    {
     "data": {
      "text/plain": [
       "Date        False\n",
       "Open        False\n",
       "High        False\n",
       "Low         False\n",
       "Close       False\n",
       "Volume      False\n",
       "Currency    False\n",
       "dtype: bool"
      ]
     },
     "execution_count": 5,
     "metadata": {},
     "output_type": "execute_result"
    }
   ],
   "source": [
    "df.isnull().any()"
   ]
  },
  {
   "cell_type": "code",
   "execution_count": 6,
   "id": "8eb3bf0c",
   "metadata": {},
   "outputs": [
    {
     "name": "stdout",
     "output_type": "stream",
     "text": [
      "<class 'pandas.core.frame.DataFrame'>\n",
      "RangeIndex: 4420 entries, 0 to 4419\n",
      "Data columns (total 7 columns):\n",
      " #   Column    Non-Null Count  Dtype  \n",
      "---  ------    --------------  -----  \n",
      " 0   Date      4420 non-null   object \n",
      " 1   Open      4420 non-null   float64\n",
      " 2   High      4420 non-null   float64\n",
      " 3   Low       4420 non-null   float64\n",
      " 4   Close     4420 non-null   float64\n",
      " 5   Volume    4420 non-null   int64  \n",
      " 6   Currency  4420 non-null   object \n",
      "dtypes: float64(4), int64(1), object(2)\n",
      "memory usage: 241.8+ KB\n"
     ]
    }
   ],
   "source": [
    "df.info()"
   ]
  },
  {
   "cell_type": "code",
   "execution_count": 7,
   "id": "c54e984d",
   "metadata": {
    "scrolled": false
   },
   "outputs": [
    {
     "data": {
      "text/html": [
       "<div>\n",
       "<style scoped>\n",
       "    .dataframe tbody tr th:only-of-type {\n",
       "        vertical-align: middle;\n",
       "    }\n",
       "\n",
       "    .dataframe tbody tr th {\n",
       "        vertical-align: top;\n",
       "    }\n",
       "\n",
       "    .dataframe thead th {\n",
       "        text-align: right;\n",
       "    }\n",
       "</style>\n",
       "<table border=\"1\" class=\"dataframe\">\n",
       "  <thead>\n",
       "    <tr style=\"text-align: right;\">\n",
       "      <th></th>\n",
       "      <th>Open</th>\n",
       "      <th>High</th>\n",
       "      <th>Low</th>\n",
       "      <th>Close</th>\n",
       "      <th>Volume</th>\n",
       "    </tr>\n",
       "  </thead>\n",
       "  <tbody>\n",
       "    <tr>\n",
       "      <th>count</th>\n",
       "      <td>4420.000000</td>\n",
       "      <td>4420.000000</td>\n",
       "      <td>4420.000000</td>\n",
       "      <td>4420.000000</td>\n",
       "      <td>4.420000e+03</td>\n",
       "    </tr>\n",
       "    <tr>\n",
       "      <th>mean</th>\n",
       "      <td>8302.221855</td>\n",
       "      <td>8531.971380</td>\n",
       "      <td>8043.473869</td>\n",
       "      <td>8306.969457</td>\n",
       "      <td>1.395788e+07</td>\n",
       "    </tr>\n",
       "    <tr>\n",
       "      <th>std</th>\n",
       "      <td>14598.398937</td>\n",
       "      <td>14992.605971</td>\n",
       "      <td>14146.499234</td>\n",
       "      <td>14599.046649</td>\n",
       "      <td>1.645973e+08</td>\n",
       "    </tr>\n",
       "    <tr>\n",
       "      <th>min</th>\n",
       "      <td>0.000000</td>\n",
       "      <td>0.100000</td>\n",
       "      <td>0.000000</td>\n",
       "      <td>0.100000</td>\n",
       "      <td>0.000000e+00</td>\n",
       "    </tr>\n",
       "    <tr>\n",
       "      <th>25%</th>\n",
       "      <td>122.500000</td>\n",
       "      <td>129.975000</td>\n",
       "      <td>118.300000</td>\n",
       "      <td>122.800000</td>\n",
       "      <td>3.013600e+04</td>\n",
       "    </tr>\n",
       "    <tr>\n",
       "      <th>50%</th>\n",
       "      <td>683.600000</td>\n",
       "      <td>706.500000</td>\n",
       "      <td>657.550000</td>\n",
       "      <td>685.000000</td>\n",
       "      <td>6.762050e+04</td>\n",
       "    </tr>\n",
       "    <tr>\n",
       "      <th>75%</th>\n",
       "      <td>8877.250000</td>\n",
       "      <td>9122.700000</td>\n",
       "      <td>8666.900000</td>\n",
       "      <td>8886.075000</td>\n",
       "      <td>1.769402e+05</td>\n",
       "    </tr>\n",
       "    <tr>\n",
       "      <th>max</th>\n",
       "      <td>67528.700000</td>\n",
       "      <td>68990.600000</td>\n",
       "      <td>66334.900000</td>\n",
       "      <td>67527.900000</td>\n",
       "      <td>4.468697e+09</td>\n",
       "    </tr>\n",
       "  </tbody>\n",
       "</table>\n",
       "</div>"
      ],
      "text/plain": [
       "               Open          High           Low         Close        Volume\n",
       "count   4420.000000   4420.000000   4420.000000   4420.000000  4.420000e+03\n",
       "mean    8302.221855   8531.971380   8043.473869   8306.969457  1.395788e+07\n",
       "std    14598.398937  14992.605971  14146.499234  14599.046649  1.645973e+08\n",
       "min        0.000000      0.100000      0.000000      0.100000  0.000000e+00\n",
       "25%      122.500000    129.975000    118.300000    122.800000  3.013600e+04\n",
       "50%      683.600000    706.500000    657.550000    685.000000  6.762050e+04\n",
       "75%     8877.250000   9122.700000   8666.900000   8886.075000  1.769402e+05\n",
       "max    67528.700000  68990.600000  66334.900000  67527.900000  4.468697e+09"
      ]
     },
     "execution_count": 7,
     "metadata": {},
     "output_type": "execute_result"
    }
   ],
   "source": [
    "df.describe()"
   ]
  },
  {
   "cell_type": "code",
   "execution_count": 9,
   "id": "3ef72482",
   "metadata": {},
   "outputs": [],
   "source": [
    "# convert 'Date' column to datetime format\n",
    "\n",
    "df['Date'] = pd.to_datetime(df['Date'])\n",
    "#df['Date']= df['Date'].values.astype(\"float64\")\n"
   ]
  },
  {
   "cell_type": "code",
   "execution_count": 10,
   "id": "488c8198",
   "metadata": {},
   "outputs": [
    {
     "data": {
      "text/plain": [
       "0      2010-07-18\n",
       "1      2010-07-19\n",
       "2      2010-07-20\n",
       "3      2010-07-21\n",
       "4      2010-07-22\n",
       "          ...    \n",
       "4415   2022-08-19\n",
       "4416   2022-08-20\n",
       "4417   2022-08-21\n",
       "4418   2022-08-22\n",
       "4419   2022-08-23\n",
       "Name: Date, Length: 4420, dtype: datetime64[ns]"
      ]
     },
     "execution_count": 10,
     "metadata": {},
     "output_type": "execute_result"
    }
   ],
   "source": [
    "df['Date']"
   ]
  },
  {
   "cell_type": "markdown",
   "id": "080fe643",
   "metadata": {},
   "source": [
    "###  Feature Engineering"
   ]
  },
  {
   "cell_type": "code",
   "execution_count": 15,
   "id": "abf1674f",
   "metadata": {},
   "outputs": [
    {
     "data": {
      "text/plain": [
       "0   -0.1\n",
       "1    0.0\n",
       "2    0.0\n",
       "3    0.0\n",
       "4    0.0\n",
       "Name: Difference, dtype: float64"
      ]
     },
     "execution_count": 15,
     "metadata": {},
     "output_type": "execute_result"
    }
   ],
   "source": [
    "# proposed target variable is the difference betwwen the 'open' and 'close' columns\n",
    "\n",
    "df['Difference'] = df['Open'] - df['Close']\n",
    "\n",
    "\n",
    "# Look at first 5 entries.\n",
    "df['Difference'].head()"
   ]
  },
  {
   "cell_type": "code",
   "execution_count": 16,
   "id": "26d558be",
   "metadata": {},
   "outputs": [
    {
     "data": {
      "text/plain": [
       "4410     139.3\n",
       "4411     201.6\n",
       "4412     245.8\n",
       "4413     517.8\n",
       "4414     134.1\n",
       "4415    2370.3\n",
       "4416    -308.2\n",
       "4417    -378.3\n",
       "4418     100.5\n",
       "4419     107.5\n",
       "Name: Difference, dtype: float64"
      ]
     },
     "execution_count": 16,
     "metadata": {},
     "output_type": "execute_result"
    }
   ],
   "source": [
    "df['Difference'].tail(10)"
   ]
  },
  {
   "cell_type": "code",
   "execution_count": 17,
   "id": "b2a8b192",
   "metadata": {
    "scrolled": true
   },
   "outputs": [
    {
     "data": {
      "text/html": [
       "<div>\n",
       "<style scoped>\n",
       "    .dataframe tbody tr th:only-of-type {\n",
       "        vertical-align: middle;\n",
       "    }\n",
       "\n",
       "    .dataframe tbody tr th {\n",
       "        vertical-align: top;\n",
       "    }\n",
       "\n",
       "    .dataframe thead th {\n",
       "        text-align: right;\n",
       "    }\n",
       "</style>\n",
       "<table border=\"1\" class=\"dataframe\">\n",
       "  <thead>\n",
       "    <tr style=\"text-align: right;\">\n",
       "      <th></th>\n",
       "      <th>Open</th>\n",
       "      <th>High</th>\n",
       "      <th>Low</th>\n",
       "      <th>Close</th>\n",
       "      <th>Volume</th>\n",
       "      <th>Difference</th>\n",
       "    </tr>\n",
       "  </thead>\n",
       "  <tbody>\n",
       "    <tr>\n",
       "      <th>Open</th>\n",
       "      <td>1.000000</td>\n",
       "      <td>0.999589</td>\n",
       "      <td>0.999221</td>\n",
       "      <td>0.998996</td>\n",
       "      <td>0.182761</td>\n",
       "      <td>0.021419</td>\n",
       "    </tr>\n",
       "    <tr>\n",
       "      <th>High</th>\n",
       "      <td>0.999589</td>\n",
       "      <td>1.000000</td>\n",
       "      <td>0.999158</td>\n",
       "      <td>0.999556</td>\n",
       "      <td>0.182589</td>\n",
       "      <td>-0.000251</td>\n",
       "    </tr>\n",
       "    <tr>\n",
       "      <th>Low</th>\n",
       "      <td>0.999221</td>\n",
       "      <td>0.999158</td>\n",
       "      <td>1.000000</td>\n",
       "      <td>0.999468</td>\n",
       "      <td>0.183437</td>\n",
       "      <td>-0.006492</td>\n",
       "    </tr>\n",
       "    <tr>\n",
       "      <th>Close</th>\n",
       "      <td>0.998996</td>\n",
       "      <td>0.999556</td>\n",
       "      <td>0.999468</td>\n",
       "      <td>1.000000</td>\n",
       "      <td>0.182242</td>\n",
       "      <td>-0.023398</td>\n",
       "    </tr>\n",
       "    <tr>\n",
       "      <th>Volume</th>\n",
       "      <td>0.182761</td>\n",
       "      <td>0.182589</td>\n",
       "      <td>0.183437</td>\n",
       "      <td>0.182242</td>\n",
       "      <td>1.000000</td>\n",
       "      <td>0.011404</td>\n",
       "    </tr>\n",
       "    <tr>\n",
       "      <th>Difference</th>\n",
       "      <td>0.021419</td>\n",
       "      <td>-0.000251</td>\n",
       "      <td>-0.006492</td>\n",
       "      <td>-0.023398</td>\n",
       "      <td>0.011404</td>\n",
       "      <td>1.000000</td>\n",
       "    </tr>\n",
       "  </tbody>\n",
       "</table>\n",
       "</div>"
      ],
      "text/plain": [
       "                Open      High       Low     Close    Volume  Difference\n",
       "Open        1.000000  0.999589  0.999221  0.998996  0.182761    0.021419\n",
       "High        0.999589  1.000000  0.999158  0.999556  0.182589   -0.000251\n",
       "Low         0.999221  0.999158  1.000000  0.999468  0.183437   -0.006492\n",
       "Close       0.998996  0.999556  0.999468  1.000000  0.182242   -0.023398\n",
       "Volume      0.182761  0.182589  0.183437  0.182242  1.000000    0.011404\n",
       "Difference  0.021419 -0.000251 -0.006492 -0.023398  0.011404    1.000000"
      ]
     },
     "execution_count": 17,
     "metadata": {},
     "output_type": "execute_result"
    }
   ],
   "source": [
    "df.corr()"
   ]
  },
  {
   "cell_type": "raw",
   "id": "b08080f8",
   "metadata": {},
   "source": [
    "The proposed target column 'Difference' has a high negative correlation, but will still be useful in model training because of the erratic nature of bitcoin in the latter years."
   ]
  },
  {
   "cell_type": "code",
   "execution_count": 18,
   "id": "a4b4fa37",
   "metadata": {
    "scrolled": true
   },
   "outputs": [],
   "source": [
    "# create new features\n",
    "# extract year and month and other time values from our time column\n",
    "df['Year'] = df['Date'].dt.year\n",
    "df['Month'] = df['Date'].dt.month\n",
    "df['Day'] = df['Date'].dt.day\n"
   ]
  },
  {
   "cell_type": "code",
   "execution_count": 19,
   "id": "fd64d70b",
   "metadata": {},
   "outputs": [
    {
     "data": {
      "text/html": [
       "<div>\n",
       "<style scoped>\n",
       "    .dataframe tbody tr th:only-of-type {\n",
       "        vertical-align: middle;\n",
       "    }\n",
       "\n",
       "    .dataframe tbody tr th {\n",
       "        vertical-align: top;\n",
       "    }\n",
       "\n",
       "    .dataframe thead th {\n",
       "        text-align: right;\n",
       "    }\n",
       "</style>\n",
       "<table border=\"1\" class=\"dataframe\">\n",
       "  <thead>\n",
       "    <tr style=\"text-align: right;\">\n",
       "      <th></th>\n",
       "      <th>Date</th>\n",
       "      <th>Open</th>\n",
       "      <th>High</th>\n",
       "      <th>Low</th>\n",
       "      <th>Close</th>\n",
       "      <th>Volume</th>\n",
       "      <th>Currency</th>\n",
       "      <th>Difference</th>\n",
       "      <th>Year</th>\n",
       "      <th>Month</th>\n",
       "      <th>Day</th>\n",
       "    </tr>\n",
       "  </thead>\n",
       "  <tbody>\n",
       "    <tr>\n",
       "      <th>0</th>\n",
       "      <td>2010-07-18</td>\n",
       "      <td>0.0</td>\n",
       "      <td>0.1</td>\n",
       "      <td>0.1</td>\n",
       "      <td>0.1</td>\n",
       "      <td>75</td>\n",
       "      <td>USD</td>\n",
       "      <td>-0.1</td>\n",
       "      <td>2010</td>\n",
       "      <td>7</td>\n",
       "      <td>18</td>\n",
       "    </tr>\n",
       "    <tr>\n",
       "      <th>1</th>\n",
       "      <td>2010-07-19</td>\n",
       "      <td>0.1</td>\n",
       "      <td>0.1</td>\n",
       "      <td>0.1</td>\n",
       "      <td>0.1</td>\n",
       "      <td>574</td>\n",
       "      <td>USD</td>\n",
       "      <td>0.0</td>\n",
       "      <td>2010</td>\n",
       "      <td>7</td>\n",
       "      <td>19</td>\n",
       "    </tr>\n",
       "    <tr>\n",
       "      <th>2</th>\n",
       "      <td>2010-07-20</td>\n",
       "      <td>0.1</td>\n",
       "      <td>0.1</td>\n",
       "      <td>0.1</td>\n",
       "      <td>0.1</td>\n",
       "      <td>262</td>\n",
       "      <td>USD</td>\n",
       "      <td>0.0</td>\n",
       "      <td>2010</td>\n",
       "      <td>7</td>\n",
       "      <td>20</td>\n",
       "    </tr>\n",
       "    <tr>\n",
       "      <th>3</th>\n",
       "      <td>2010-07-21</td>\n",
       "      <td>0.1</td>\n",
       "      <td>0.1</td>\n",
       "      <td>0.1</td>\n",
       "      <td>0.1</td>\n",
       "      <td>575</td>\n",
       "      <td>USD</td>\n",
       "      <td>0.0</td>\n",
       "      <td>2010</td>\n",
       "      <td>7</td>\n",
       "      <td>21</td>\n",
       "    </tr>\n",
       "    <tr>\n",
       "      <th>4</th>\n",
       "      <td>2010-07-22</td>\n",
       "      <td>0.1</td>\n",
       "      <td>0.1</td>\n",
       "      <td>0.1</td>\n",
       "      <td>0.1</td>\n",
       "      <td>2160</td>\n",
       "      <td>USD</td>\n",
       "      <td>0.0</td>\n",
       "      <td>2010</td>\n",
       "      <td>7</td>\n",
       "      <td>22</td>\n",
       "    </tr>\n",
       "    <tr>\n",
       "      <th>5</th>\n",
       "      <td>2010-07-23</td>\n",
       "      <td>0.1</td>\n",
       "      <td>0.1</td>\n",
       "      <td>0.1</td>\n",
       "      <td>0.1</td>\n",
       "      <td>2403</td>\n",
       "      <td>USD</td>\n",
       "      <td>0.0</td>\n",
       "      <td>2010</td>\n",
       "      <td>7</td>\n",
       "      <td>23</td>\n",
       "    </tr>\n",
       "    <tr>\n",
       "      <th>6</th>\n",
       "      <td>2010-07-24</td>\n",
       "      <td>0.1</td>\n",
       "      <td>0.1</td>\n",
       "      <td>0.1</td>\n",
       "      <td>0.1</td>\n",
       "      <td>496</td>\n",
       "      <td>USD</td>\n",
       "      <td>0.0</td>\n",
       "      <td>2010</td>\n",
       "      <td>7</td>\n",
       "      <td>24</td>\n",
       "    </tr>\n",
       "    <tr>\n",
       "      <th>7</th>\n",
       "      <td>2010-07-25</td>\n",
       "      <td>0.1</td>\n",
       "      <td>0.1</td>\n",
       "      <td>0.1</td>\n",
       "      <td>0.1</td>\n",
       "      <td>1551</td>\n",
       "      <td>USD</td>\n",
       "      <td>0.0</td>\n",
       "      <td>2010</td>\n",
       "      <td>7</td>\n",
       "      <td>25</td>\n",
       "    </tr>\n",
       "    <tr>\n",
       "      <th>8</th>\n",
       "      <td>2010-07-26</td>\n",
       "      <td>0.1</td>\n",
       "      <td>0.1</td>\n",
       "      <td>0.1</td>\n",
       "      <td>0.1</td>\n",
       "      <td>877</td>\n",
       "      <td>USD</td>\n",
       "      <td>0.0</td>\n",
       "      <td>2010</td>\n",
       "      <td>7</td>\n",
       "      <td>26</td>\n",
       "    </tr>\n",
       "    <tr>\n",
       "      <th>9</th>\n",
       "      <td>2010-07-27</td>\n",
       "      <td>0.1</td>\n",
       "      <td>0.1</td>\n",
       "      <td>0.1</td>\n",
       "      <td>0.1</td>\n",
       "      <td>3374</td>\n",
       "      <td>USD</td>\n",
       "      <td>0.0</td>\n",
       "      <td>2010</td>\n",
       "      <td>7</td>\n",
       "      <td>27</td>\n",
       "    </tr>\n",
       "  </tbody>\n",
       "</table>\n",
       "</div>"
      ],
      "text/plain": [
       "        Date  Open  High  Low  Close  Volume Currency  Difference  Year  \\\n",
       "0 2010-07-18   0.0   0.1  0.1    0.1      75      USD        -0.1  2010   \n",
       "1 2010-07-19   0.1   0.1  0.1    0.1     574      USD         0.0  2010   \n",
       "2 2010-07-20   0.1   0.1  0.1    0.1     262      USD         0.0  2010   \n",
       "3 2010-07-21   0.1   0.1  0.1    0.1     575      USD         0.0  2010   \n",
       "4 2010-07-22   0.1   0.1  0.1    0.1    2160      USD         0.0  2010   \n",
       "5 2010-07-23   0.1   0.1  0.1    0.1    2403      USD         0.0  2010   \n",
       "6 2010-07-24   0.1   0.1  0.1    0.1     496      USD         0.0  2010   \n",
       "7 2010-07-25   0.1   0.1  0.1    0.1    1551      USD         0.0  2010   \n",
       "8 2010-07-26   0.1   0.1  0.1    0.1     877      USD         0.0  2010   \n",
       "9 2010-07-27   0.1   0.1  0.1    0.1    3374      USD         0.0  2010   \n",
       "\n",
       "   Month  Day  \n",
       "0      7   18  \n",
       "1      7   19  \n",
       "2      7   20  \n",
       "3      7   21  \n",
       "4      7   22  \n",
       "5      7   23  \n",
       "6      7   24  \n",
       "7      7   25  \n",
       "8      7   26  \n",
       "9      7   27  "
      ]
     },
     "execution_count": 19,
     "metadata": {},
     "output_type": "execute_result"
    }
   ],
   "source": [
    "df.head(10)"
   ]
  },
  {
   "cell_type": "code",
   "execution_count": 20,
   "id": "66a89447",
   "metadata": {},
   "outputs": [],
   "source": [
    "# 'Currency' column is dropped because it does not add any information to the dataset.\n",
    "\n",
    "df= df.drop('Currency', axis=1)\n"
   ]
  },
  {
   "cell_type": "markdown",
   "id": "e69c2276",
   "metadata": {},
   "source": [
    "###  Data Visualization"
   ]
  },
  {
   "cell_type": "code",
   "execution_count": 21,
   "id": "a7bd2aab",
   "metadata": {},
   "outputs": [
    {
     "data": {
      "image/png": "[encoded data removed]",
      "text/plain": [
       "<Figure size 640x480 with 1 Axes>"
      ]
     },
     "metadata": {},
     "output_type": "display_data"
    }
   ],
   "source": [
    "df.plot.line(x=\"Date\", y=\"Difference\", title=\"Line Plot of Difference against date\")\n",
    "\n",
    "plt.show()"
   ]
  },
  {
   "cell_type": "code",
   "execution_count": 22,
   "id": "f627a3a1",
   "metadata": {},
   "outputs": [
    {
     "data": {
      "image/png": "[encoded data removed]",
      "text/plain": [
       "<Figure size 640x480 with 1 Axes>"
      ]
     },
     "metadata": {},
     "output_type": "display_data"
    }
   ],
   "source": [
    "df.plot.line(x=\"Date\", y=\"Volume\", title=\"Line Plot of Volume against date\")\n",
    "\n",
    "plt.show()"
   ]
  },
  {
   "cell_type": "raw",
   "id": "ebac72e4",
   "metadata": {},
   "source": [
    "It is observed that the year '2022' produced the highest volume of bitcoin"
   ]
  },
  {
   "cell_type": "code",
   "execution_count": 23,
   "id": "9bb43ac3",
   "metadata": {},
   "outputs": [
    {
     "data": {
      "image/png": "[encoded data removed]",
      "text/plain": [
       "<Figure size 640x480 with 1 Axes>"
      ]
     },
     "metadata": {},
     "output_type": "display_data"
    }
   ],
   "source": [
    "plt.scatter(df['Open'], df['Close'])\n",
    "plt.ylabel(\"Open\")\n",
    "plt.xlabel(\"Close\")\n",
    "plt.title('Scatter plot of Open against Close')\n",
    "plt.show()"
   ]
  },
  {
   "cell_type": "code",
   "execution_count": 24,
   "id": "9e425eb3",
   "metadata": {},
   "outputs": [
    {
     "data": {
      "image/png": "[encoded data removed]",
      "text/plain": [
       "<Figure size 640x480 with 1 Axes>"
      ]
     },
     "metadata": {},
     "output_type": "display_data"
    }
   ],
   "source": [
    "plt.scatter(df['High'], df['Low'])\n",
    "plt.ylabel(\"High\")\n",
    "plt.xlabel(\"Low\")\n",
    "plt.title('Scatter plot of High against Low')\n",
    "plt.show()"
   ]
  },
  {
   "cell_type": "code",
   "execution_count": 25,
   "id": "9c2a8b24",
   "metadata": {},
   "outputs": [],
   "source": [
    "df = df.drop('Date', axis = 1)"
   ]
  },
  {
   "cell_type": "markdown",
   "id": "3eee84e3",
   "metadata": {},
   "source": [
    "#### Train test Split"
   ]
  },
  {
   "cell_type": "code",
   "execution_count": 26,
   "id": "1b7252f5",
   "metadata": {},
   "outputs": [],
   "source": [
    "from sklearn.model_selection import train_test_split"
   ]
  },
  {
   "cell_type": "code",
   "execution_count": 27,
   "id": "070ca92c",
   "metadata": {},
   "outputs": [],
   "source": [
    "y = df['Difference']\n",
    "X = df.drop('Difference', axis=1)"
   ]
  },
  {
   "cell_type": "code",
   "execution_count": 28,
   "id": "991fce79",
   "metadata": {},
   "outputs": [
    {
     "name": "stdout",
     "output_type": "stream",
     "text": [
      "X Train shape: (3536, 8)\n",
      "X Test shape: (884, 8)\n",
      "y Train shape: (3536,)\n",
      "y Test shape: (884,)\n"
     ]
    }
   ],
   "source": [
    "X_train, X_test, y_train, y_test = train_test_split(X, y, test_size=0.2, random_state=42)\n",
    "\n",
    "print(f'X Train shape: {X_train.shape}')\n",
    "print(f'X Test shape: {X_test.shape}')\n",
    "print(f'y Train shape: {y_train.shape}')\n",
    "print(f'y Test shape: {y_test.shape}')"
   ]
  },
  {
   "cell_type": "raw",
   "id": "c1c15a0a",
   "metadata": {},
   "source": [
    "The random state hyperparameter in the train_test_split() function controls the shuffling process, in this model, it is set to 42."
   ]
  },
  {
   "cell_type": "markdown",
   "id": "adcf1307",
   "metadata": {},
   "source": [
    "#### Implementing Scaling\n",
    "\n"
   ]
  },
  {
   "cell_type": "code",
   "execution_count": 29,
   "id": "2cc9bcb1",
   "metadata": {},
   "outputs": [
    {
     "data": {
      "text/html": [
       "<div>\n",
       "<style scoped>\n",
       "    .dataframe tbody tr th:only-of-type {\n",
       "        vertical-align: middle;\n",
       "    }\n",
       "\n",
       "    .dataframe tbody tr th {\n",
       "        vertical-align: top;\n",
       "    }\n",
       "\n",
       "    .dataframe thead th {\n",
       "        text-align: right;\n",
       "    }\n",
       "</style>\n",
       "<table border=\"1\" class=\"dataframe\">\n",
       "  <thead>\n",
       "    <tr style=\"text-align: right;\">\n",
       "      <th></th>\n",
       "      <th>Open</th>\n",
       "      <th>High</th>\n",
       "      <th>Low</th>\n",
       "      <th>Close</th>\n",
       "      <th>Volume</th>\n",
       "      <th>Year</th>\n",
       "      <th>Month</th>\n",
       "      <th>Day</th>\n",
       "    </tr>\n",
       "  </thead>\n",
       "  <tbody>\n",
       "    <tr>\n",
       "      <th>0</th>\n",
       "      <td>-0.569735</td>\n",
       "      <td>-0.570530</td>\n",
       "      <td>-0.570063</td>\n",
       "      <td>-0.570814</td>\n",
       "      <td>-0.091304</td>\n",
       "      <td>-1.748421</td>\n",
       "      <td>0.455418</td>\n",
       "      <td>-0.319093</td>\n",
       "    </tr>\n",
       "    <tr>\n",
       "      <th>1</th>\n",
       "      <td>2.404166</td>\n",
       "      <td>2.338152</td>\n",
       "      <td>2.426062</td>\n",
       "      <td>2.402094</td>\n",
       "      <td>-0.091047</td>\n",
       "      <td>1.396683</td>\n",
       "      <td>0.745311</td>\n",
       "      <td>1.045666</td>\n",
       "    </tr>\n",
       "    <tr>\n",
       "      <th>2</th>\n",
       "      <td>0.011139</td>\n",
       "      <td>-0.002351</td>\n",
       "      <td>0.010999</td>\n",
       "      <td>0.002140</td>\n",
       "      <td>-0.088561</td>\n",
       "      <td>0.824846</td>\n",
       "      <td>1.035204</td>\n",
       "      <td>-1.456393</td>\n",
       "    </tr>\n",
       "    <tr>\n",
       "      <th>3</th>\n",
       "      <td>-0.569673</td>\n",
       "      <td>-0.570469</td>\n",
       "      <td>-0.569998</td>\n",
       "      <td>-0.570751</td>\n",
       "      <td>-0.091301</td>\n",
       "      <td>-1.462502</td>\n",
       "      <td>-1.283941</td>\n",
       "      <td>0.135826</td>\n",
       "    </tr>\n",
       "    <tr>\n",
       "      <th>4</th>\n",
       "      <td>-0.569457</td>\n",
       "      <td>-0.570259</td>\n",
       "      <td>-0.569797</td>\n",
       "      <td>-0.570549</td>\n",
       "      <td>-0.091079</td>\n",
       "      <td>-1.462502</td>\n",
       "      <td>1.035204</td>\n",
       "      <td>-0.546553</td>\n",
       "    </tr>\n",
       "  </tbody>\n",
       "</table>\n",
       "</div>"
      ],
      "text/plain": [
       "       Open      High       Low     Close    Volume      Year     Month  \\\n",
       "0 -0.569735 -0.570530 -0.570063 -0.570814 -0.091304 -1.748421  0.455418   \n",
       "1  2.404166  2.338152  2.426062  2.402094 -0.091047  1.396683  0.745311   \n",
       "2  0.011139 -0.002351  0.010999  0.002140 -0.088561  0.824846  1.035204   \n",
       "3 -0.569673 -0.570469 -0.569998 -0.570751 -0.091301 -1.462502 -1.283941   \n",
       "4 -0.569457 -0.570259 -0.569797 -0.570549 -0.091079 -1.462502  1.035204   \n",
       "\n",
       "        Day  \n",
       "0 -0.319093  \n",
       "1  1.045666  \n",
       "2 -1.456393  \n",
       "3  0.135826  \n",
       "4 -0.546553  "
      ]
     },
     "execution_count": 29,
     "metadata": {},
     "output_type": "execute_result"
    }
   ],
   "source": [
    "from sklearn.preprocessing import StandardScaler\n",
    "\n",
    "# create scaler object\n",
    "scaler = StandardScaler()\n",
    "\n",
    "# fit and transform the data\n",
    "X_train = scaler.fit_transform(X_train)\n",
    "X_test = scaler.transform(X_test)\n",
    "\n",
    "# create a new dataframe with the scaled data\n",
    "X_train = pd.DataFrame(X_train, columns=X.columns)\n",
    "X_test = pd.DataFrame(X_test, columns=X.columns)\n",
    "\n",
    "# view our scaled data\n",
    "X_train.head()"
   ]
  },
  {
   "cell_type": "markdown",
   "id": "2ccaae7c",
   "metadata": {},
   "source": [
    "### Fitting and evaluating the model"
   ]
  },
  {
   "cell_type": "markdown",
   "id": "7f0bb0ef",
   "metadata": {},
   "source": [
    "#### Random Forest"
   ]
  },
  {
   "cell_type": "markdown",
   "id": "c3803ea0",
   "metadata": {},
   "source": [
    "We first create an instance of the Random Forest model, with the default parameters. We then fit this to our training data. We pass both the features and the target variable, so the model can learn."
   ]
  },
  {
   "cell_type": "code",
   "execution_count": 30,
   "id": "7c9e4fa4",
   "metadata": {},
   "outputs": [],
   "source": [
    "# Import the random forest module\n",
    "from sklearn.ensemble import RandomForestRegressor"
   ]
  },
  {
   "cell_type": "code",
   "execution_count": 31,
   "id": "7c567a20",
   "metadata": {},
   "outputs": [
    {
     "data": {
      "text/plain": [
       "RandomForestRegressor(max_depth=5, random_state=42)"
      ]
     },
     "execution_count": 31,
     "metadata": {},
     "output_type": "execute_result"
    }
   ],
   "source": [
    "# Declare the model object\n",
    "rf = RandomForestRegressor(n_estimators=100, max_depth=5, random_state=42)\n",
    "rf.fit(X_train, y_train)"
   ]
  },
  {
   "cell_type": "code",
   "execution_count": 32,
   "id": "a7ca93e2",
   "metadata": {},
   "outputs": [],
   "source": [
    "from sklearn.metrics import mean_squared_error, r2_score, mean_absolute_error"
   ]
  },
  {
   "cell_type": "code",
   "execution_count": 33,
   "id": "5d741a7e",
   "metadata": {},
   "outputs": [],
   "source": [
    "rf_pred = rf.predict(X_test)"
   ]
  },
  {
   "cell_type": "code",
   "execution_count": 78,
   "id": "9016fd95",
   "metadata": {},
   "outputs": [],
   "source": [
    "rf_rmse = round(np.sqrt(mean_squared_error(y_test,rf_pred)),3)\n",
    "rf_mse = round(mean_squared_error(y_test,rf_pred),3)\n",
    "rf_mae = round(mean_absolute_error(y_test,rf_pred),3)\n",
    "rf_r2 = round(r2_score(y_test,rf_pred),3)"
   ]
  },
  {
   "cell_type": "code",
   "execution_count": 79,
   "id": "d3e7a712",
   "metadata": {},
   "outputs": [
    {
     "name": "stdout",
     "output_type": "stream",
     "text": [
      "RMSE: 546.467\n",
      "MSE: 298625.72\n",
      "MAE: 211.969\n",
      "R2 Score 0.255\n"
     ]
    }
   ],
   "source": [
    "print(\"RMSE:\",rf_rmse)\n",
    "print(\"MSE:\",rf_mse)\n",
    "print(\"MAE:\",rf_mae)\n",
    "print(\"R2 Score\",rf_r2)\n"
   ]
  },
  {
   "cell_type": "markdown",
   "id": "650649e5",
   "metadata": {},
   "source": [
    "Plot predicted output vs expected output."
   ]
  },
  {
   "cell_type": "code",
   "execution_count": 27,
   "id": "be3ac407",
   "metadata": {},
   "outputs": [
    {
     "data": {
      "image/png": "[encoded data removed]",
      "text/plain": [
       "<Figure size 500x500 with 1 Axes>"
      ]
     },
     "metadata": {},
     "output_type": "display_data"
    }
   ],
   "source": [
    "# Create figure and axes\n",
    "f, ax = plt.subplots(figsize=(5,5))\n",
    "\n",
    "# Plot on axes\n",
    "ax.set_title('Actual vs Predicted')\n",
    "ax.set_xlabel('Actual')\n",
    "ax.set_ylabel('Predicted')\n",
    "ax.scatter(y_test,rf_pred)\n",
    "ax.plot(y_test,y_test,'r')\n",
    "plt.show()"
   ]
  },
  {
   "cell_type": "markdown",
   "id": "1164c494",
   "metadata": {},
   "source": [
    "#### Support Vector Regressor "
   ]
  },
  {
   "cell_type": "code",
   "execution_count": 36,
   "id": "dee2805c",
   "metadata": {},
   "outputs": [],
   "source": [
    "from sklearn.svm import SVR\n"
   ]
  },
  {
   "cell_type": "code",
   "execution_count": 37,
   "id": "de0053e2",
   "metadata": {},
   "outputs": [
    {
     "data": {
      "text/plain": [
       "SVR()"
      ]
     },
     "execution_count": 37,
     "metadata": {},
     "output_type": "execute_result"
    }
   ],
   "source": [
    "svm = SVR()\n",
    "svm.fit(X_train, y_train)"
   ]
  },
  {
   "cell_type": "code",
   "execution_count": 38,
   "id": "672b680d",
   "metadata": {},
   "outputs": [],
   "source": [
    "svm_pred = svm.predict(X_test)"
   ]
  },
  {
   "cell_type": "code",
   "execution_count": 76,
   "id": "cf6b0738",
   "metadata": {},
   "outputs": [],
   "source": [
    "svm_rmse = round(np.sqrt(mean_squared_error(y_test,svm_pred)),3)\n",
    "svm_mse = round(mean_squared_error(y_test,svm_pred),3)\n",
    "svm_mae = round(mean_absolute_error(y_test,svm_pred),3)\n",
    "svm_r2 = round(r2_score(y_test,svm_pred),3)"
   ]
  },
  {
   "cell_type": "code",
   "execution_count": 77,
   "id": "7154edd0",
   "metadata": {
    "scrolled": true
   },
   "outputs": [
    {
     "name": "stdout",
     "output_type": "stream",
     "text": [
      "RMSE: 636.123\n",
      "MSE: 404652.606\n",
      "MAE: 237.131\n",
      "R2 Score -0.01\n"
     ]
    }
   ],
   "source": [
    "print(\"RMSE:\",svm_rmse)\n",
    "print(\"MSE:\",svm_mse)\n",
    "print(\"MAE:\",svm_mae)\n",
    "print(\"R2 Score\",svm_r2)"
   ]
  },
  {
   "cell_type": "markdown",
   "id": "b61612d0",
   "metadata": {},
   "source": [
    "#### Decision Tree"
   ]
  },
  {
   "cell_type": "code",
   "execution_count": 41,
   "id": "175cb753",
   "metadata": {},
   "outputs": [],
   "source": [
    "from sklearn.tree import DecisionTreeRegressor"
   ]
  },
  {
   "cell_type": "code",
   "execution_count": 42,
   "id": "5e19a092",
   "metadata": {},
   "outputs": [],
   "source": [
    "dtr = DecisionTreeRegressor()"
   ]
  },
  {
   "cell_type": "code",
   "execution_count": 43,
   "id": "54f3a069",
   "metadata": {},
   "outputs": [],
   "source": [
    "# fit model and make prediction\n",
    "dtr.fit(X_train, y_train)\n",
    "dtr_pred = dtr.predict(X_test)"
   ]
  },
  {
   "cell_type": "code",
   "execution_count": 74,
   "id": "9333ff6d",
   "metadata": {},
   "outputs": [],
   "source": [
    "dtr_rmse = round(np.sqrt(mean_squared_error(y_test,dtr_pred)),3)\n",
    "dtr_mse = round(mean_squared_error(y_test,dtr_pred),3)\n",
    "dtr_mae = round(mean_absolute_error(y_test,dtr_pred),3)\n",
    "dtr_r2 = round(r2_score(y_test,dtr_pred),3)"
   ]
  },
  {
   "cell_type": "code",
   "execution_count": 75,
   "id": "5731fff6",
   "metadata": {},
   "outputs": [
    {
     "name": "stdout",
     "output_type": "stream",
     "text": [
      "RMSE: 426.233\n",
      "MSE: 181674.246\n",
      "MAE: 158.76\n",
      "R2 Score 0.547\n"
     ]
    }
   ],
   "source": [
    "print(\"RMSE:\",dtr_rmse)\n",
    "print(\"MSE:\",dtr_mse)\n",
    "print(\"MAE:\",dtr_mae)\n",
    "print(\"R2 Score\",dtr_r2)"
   ]
  },
  {
   "cell_type": "markdown",
   "id": "edf9ab11",
   "metadata": {},
   "source": [
    "#### Gradient Boost Model"
   ]
  },
  {
   "cell_type": "code",
   "execution_count": 46,
   "id": "c35eafe3",
   "metadata": {},
   "outputs": [],
   "source": [
    "from sklearn.ensemble import GradientBoostingRegressor"
   ]
  },
  {
   "cell_type": "code",
   "execution_count": 47,
   "id": "0208caef",
   "metadata": {},
   "outputs": [],
   "source": [
    "gbr = GradientBoostingRegressor(n_estimators=100)"
   ]
  },
  {
   "cell_type": "code",
   "execution_count": 48,
   "id": "00591554",
   "metadata": {},
   "outputs": [],
   "source": [
    "gbr.fit(X_train, y_train)\n",
    "gbr_pred = gbr.predict(X_test)"
   ]
  },
  {
   "cell_type": "code",
   "execution_count": 72,
   "id": "04fa7ebb",
   "metadata": {},
   "outputs": [],
   "source": [
    "gbr_rmse = round(np.sqrt(mean_squared_error(y_test,gbr_pred)),3)\n",
    "gbr_mse = round(mean_squared_error(y_test,gbr_pred),3)\n",
    "gbr_mae = round(mean_absolute_error(y_test,gbr_pred),3)\n",
    "gbr_r2 = round(r2_score(y_test,gbr_pred),3)"
   ]
  },
  {
   "cell_type": "code",
   "execution_count": 73,
   "id": "7c9d5f96",
   "metadata": {
    "scrolled": true
   },
   "outputs": [
    {
     "name": "stdout",
     "output_type": "stream",
     "text": [
      "RMSE: 432.18\n",
      "MSE: 186779.71\n",
      "MAE: 174.679\n",
      "R2 Score 0.534\n"
     ]
    }
   ],
   "source": [
    "print(\"RMSE:\",gbr_rmse)\n",
    "print(\"MSE:\",gbr_mse)\n",
    "print(\"MAE:\",gbr_mae)\n",
    "print(\"R2 Score\",gbr_r2)"
   ]
  },
  {
   "cell_type": "markdown",
   "id": "4ddee5c3",
   "metadata": {},
   "source": [
    "#### Linear Regressor"
   ]
  },
  {
   "cell_type": "code",
   "execution_count": 51,
   "id": "302d6e05",
   "metadata": {},
   "outputs": [],
   "source": [
    "from sklearn.linear_model import LinearRegression"
   ]
  },
  {
   "cell_type": "code",
   "execution_count": 52,
   "id": "1ad20d24",
   "metadata": {},
   "outputs": [],
   "source": [
    "lr = LinearRegression()"
   ]
  },
  {
   "cell_type": "code",
   "execution_count": 53,
   "id": "19474e04",
   "metadata": {},
   "outputs": [],
   "source": [
    "lr.fit(X_train, y_train)\n",
    "lr_pred = lr.predict(X_test)"
   ]
  },
  {
   "cell_type": "code",
   "execution_count": 70,
   "id": "a55cd3d6",
   "metadata": {},
   "outputs": [],
   "source": [
    "lr_rmse = round(np.sqrt(mean_squared_error(y_test,lr_pred)),3)\n",
    "lr_mse = round(mean_squared_error(y_test,lr_pred),3)\n",
    "lr_mae = round(mean_absolute_error(y_test,lr_pred),3)\n",
    "lr_r2 = round(r2_score(y_test,lr_pred),3)"
   ]
  },
  {
   "cell_type": "code",
   "execution_count": 71,
   "id": "a3d403c7",
   "metadata": {},
   "outputs": [
    {
     "name": "stdout",
     "output_type": "stream",
     "text": [
      "RMSE: 0.0\n",
      "MSE: 0.0\n",
      "MAE: 0.0\n",
      "R2 Score 1.0\n"
     ]
    }
   ],
   "source": [
    "print(\"RMSE:\",lr_rmse)\n",
    "print(\"MSE:\",lr_mse)\n",
    "print(\"MAE:\",lr_mae)\n",
    "print(\"R2 Score\",lr_r2)"
   ]
  },
  {
   "cell_type": "markdown",
   "id": "8c239e24",
   "metadata": {},
   "source": [
    "### Comparing the two best performing models"
   ]
  },
  {
   "cell_type": "code",
   "execution_count": 57,
   "id": "c97611f9",
   "metadata": {},
   "outputs": [
    {
     "data": {
      "image/png": "[encoded data removed]",
      "text/plain": [
       "<Figure size 1500x500 with 2 Axes>"
      ]
     },
     "metadata": {},
     "output_type": "display_data"
    }
   ],
   "source": [
    "# Create figure and axes\n",
    "f, ax = plt.subplots(figsize=(15,5), nrows=1, ncols=2, sharey=True)\n",
    "\n",
    "# Create list of titles and predictions to use in for loop\n",
    "pred = [dtr_pred, lr_pred]\n",
    "title = ['Decision Tree Regressor','Linear Regressor']\n",
    "\n",
    "# Loop through all axes to plot each model's results \n",
    "for i in range(2):\n",
    "    r2 = round(r2_score(pred[i],y_test),3)\n",
    "    #rmse = round(np.sqrt(mean_squared_error(pred[i],y_test)))\n",
    "    ax[i].set_title(title[i]+\"  (R2 Score: \"+str(r2)+ \")\")\n",
    "    ax[i].set_xlabel('Actual')\n",
    "    ax[i].set_ylabel('Predicted')\n",
    "    ax[i].plot(y_test,y_test,'r')\n",
    "    ax[i].scatter(y_test,pred[i]) "
   ]
  },
  {
   "cell_type": "code",
   "execution_count": 58,
   "id": "52ad23e9",
   "metadata": {},
   "outputs": [
    {
     "data": {
      "text/plain": [
       "1042      1.1\n",
       "1272    -20.8\n",
       "1918      7.9\n",
       "1896      0.7\n",
       "4204    967.7\n",
       "3247     83.9\n",
       "691       0.0\n",
       "3438    225.0\n",
       "2238     -3.3\n",
       "1822      3.4\n",
       "Name: Difference, dtype: float64"
      ]
     },
     "execution_count": 58,
     "metadata": {},
     "output_type": "execute_result"
    }
   ],
   "source": [
    "y_test.head(10)"
   ]
  },
  {
   "cell_type": "code",
   "execution_count": 59,
   "id": "b5567b12",
   "metadata": {},
   "outputs": [
    {
     "data": {
      "text/plain": [
       "array([ 1.10000000e+00, -2.08000000e+01,  7.90000000e+00,  7.00000000e-01,\n",
       "        9.67700000e+02,  8.39000000e+01,  8.03090927e-12,  2.25000000e+02,\n",
       "       -3.30000000e+00,  3.40000000e+00])"
      ]
     },
     "execution_count": 59,
     "metadata": {},
     "output_type": "execute_result"
    }
   ],
   "source": [
    "lr_pred[:10]"
   ]
  },
  {
   "cell_type": "markdown",
   "id": "af3cb861",
   "metadata": {},
   "source": [
    "### Attempting To Improve Predictions By Ensemble Methods\n",
    "\n",
    "Ensemble methods are techniques aimed at improving model accuracy, by combining multiple models instead of using a single model"
   ]
  },
  {
   "cell_type": "code",
   "execution_count": 60,
   "id": "ed19771b",
   "metadata": {},
   "outputs": [],
   "source": [
    "from sklearn.ensemble import AdaBoostRegressor"
   ]
  },
  {
   "cell_type": "code",
   "execution_count": 61,
   "id": "6713d325",
   "metadata": {},
   "outputs": [],
   "source": [
    "# try ensemble learning with ada boost\n",
    "base_estimator = GradientBoostingRegressor()\n",
    "n_estimators = 250\n",
    "adaboost_model = AdaBoostRegressor(base_estimator=base_estimator, n_estimators=n_estimators, loss='exponential')"
   ]
  },
  {
   "cell_type": "code",
   "execution_count": 62,
   "id": "ef618200",
   "metadata": {},
   "outputs": [
    {
     "data": {
      "text/plain": [
       "AdaBoostRegressor(base_estimator=GradientBoostingRegressor(),\n",
       "                  loss='exponential', n_estimators=250)"
      ]
     },
     "execution_count": 62,
     "metadata": {},
     "output_type": "execute_result"
    }
   ],
   "source": [
    "# fit our model\n",
    "adaboost_model.fit(X_train, y_train)"
   ]
  },
  {
   "cell_type": "code",
   "execution_count": 63,
   "id": "fdec04b7",
   "metadata": {},
   "outputs": [],
   "source": [
    "ada_pred = adaboost_model.predict(X_test)"
   ]
  },
  {
   "cell_type": "code",
   "execution_count": 68,
   "id": "11f00a3d",
   "metadata": {},
   "outputs": [],
   "source": [
    "ada_rmse = round(np.sqrt(mean_squared_error(y_test,ada_pred)),3)\n",
    "ada_mse = round(mean_squared_error(y_test,ada_pred),3)\n",
    "ada_mae = round(mean_absolute_error(y_test,ada_pred),3)\n",
    "ada_r2 = round(r2_score(y_test,ada_pred),3)"
   ]
  },
  {
   "cell_type": "code",
   "execution_count": 69,
   "id": "fe05cc5c",
   "metadata": {},
   "outputs": [
    {
     "name": "stdout",
     "output_type": "stream",
     "text": [
      "RMSE: 410.613\n",
      "MSE: 168602.665\n",
      "MAE: 235.392\n",
      "R2 Score 0.579\n"
     ]
    }
   ],
   "source": [
    "print(\"RMSE:\",ada_rmse)\n",
    "print(\"MSE:\",ada_mse)\n",
    "print(\"MAE:\",ada_mae)\n",
    "print(\"R2 Score\",ada_r2)"
   ]
  },
  {
   "cell_type": "markdown",
   "id": "e3948076",
   "metadata": {},
   "source": [
    "### Model Performance\n",
    "\n",
    "\n"
   ]
  },
  {
   "cell_type": "markdown",
   "id": "3299a54e",
   "metadata": {},
   "source": [
    "We will be comparing model performance based on the following metrics:\n",
    "* R-squared score\n",
    "* Root Mean Squared Error\n",
    "* Mean Absolute Error"
   ]
  },
  {
   "cell_type": "code",
   "execution_count": 80,
   "id": "4835054b",
   "metadata": {},
   "outputs": [
    {
     "data": {
      "text/html": [
       "<div>\n",
       "<style scoped>\n",
       "    .dataframe tbody tr th:only-of-type {\n",
       "        vertical-align: middle;\n",
       "    }\n",
       "\n",
       "    .dataframe tbody tr th {\n",
       "        vertical-align: top;\n",
       "    }\n",
       "\n",
       "    .dataframe thead th {\n",
       "        text-align: right;\n",
       "    }\n",
       "</style>\n",
       "<table border=\"1\" class=\"dataframe\">\n",
       "  <thead>\n",
       "    <tr style=\"text-align: right;\">\n",
       "      <th></th>\n",
       "      <th>R2 Score</th>\n",
       "    </tr>\n",
       "  </thead>\n",
       "  <tbody>\n",
       "    <tr>\n",
       "      <th>Linear Regression</th>\n",
       "      <td>1.000</td>\n",
       "    </tr>\n",
       "    <tr>\n",
       "      <th>AdaBoost</th>\n",
       "      <td>0.579</td>\n",
       "    </tr>\n",
       "    <tr>\n",
       "      <th>Decision Tree</th>\n",
       "      <td>0.547</td>\n",
       "    </tr>\n",
       "    <tr>\n",
       "      <th>GradientBoostingRegressor</th>\n",
       "      <td>0.534</td>\n",
       "    </tr>\n",
       "    <tr>\n",
       "      <th>Random Forest</th>\n",
       "      <td>0.255</td>\n",
       "    </tr>\n",
       "    <tr>\n",
       "      <th>Support Vector</th>\n",
       "      <td>-0.010</td>\n",
       "    </tr>\n",
       "  </tbody>\n",
       "</table>\n",
       "</div>"
      ],
      "text/plain": [
       "                           R2 Score\n",
       "Linear Regression             1.000\n",
       "AdaBoost                      0.579\n",
       "Decision Tree                 0.547\n",
       "GradientBoostingRegressor     0.534\n",
       "Random Forest                 0.255\n",
       "Support Vector               -0.010"
      ]
     },
     "execution_count": 80,
     "metadata": {},
     "output_type": "execute_result"
    }
   ],
   "source": [
    "model_performance1 = {\n",
    "                    'R2 Score':\n",
    "                    {\n",
    "                        'Linear Regression': lr_r2,\n",
    "                        'Decision Tree': dtr_r2,\n",
    "                        'Support Vector': svm_r2,\n",
    "                        'Random Forest': rf_r2,\n",
    "                        'GradientBoostingRegressor': gbr_r2,\n",
    "                        'AdaBoost': ada_r2\n",
    "                    }\n",
    "}\n",
    "# create dataframe from dictionary\n",
    "model_performance1 = pd.DataFrame(model_performance1)\n",
    "model_performance1.sort_values(by='R2 Score',ascending=False)"
   ]
  },
  {
   "cell_type": "code",
   "execution_count": 81,
   "id": "344cb4a8",
   "metadata": {
    "scrolled": true
   },
   "outputs": [
    {
     "data": {
      "text/html": [
       "<div>\n",
       "<style scoped>\n",
       "    .dataframe tbody tr th:only-of-type {\n",
       "        vertical-align: middle;\n",
       "    }\n",
       "\n",
       "    .dataframe tbody tr th {\n",
       "        vertical-align: top;\n",
       "    }\n",
       "\n",
       "    .dataframe thead th {\n",
       "        text-align: right;\n",
       "    }\n",
       "</style>\n",
       "<table border=\"1\" class=\"dataframe\">\n",
       "  <thead>\n",
       "    <tr style=\"text-align: right;\">\n",
       "      <th></th>\n",
       "      <th>Root Mean Squared Error</th>\n",
       "    </tr>\n",
       "  </thead>\n",
       "  <tbody>\n",
       "    <tr>\n",
       "      <th>Linear Regression</th>\n",
       "      <td>0.000</td>\n",
       "    </tr>\n",
       "    <tr>\n",
       "      <th>AdaBoost</th>\n",
       "      <td>410.613</td>\n",
       "    </tr>\n",
       "    <tr>\n",
       "      <th>Decision Tree</th>\n",
       "      <td>426.233</td>\n",
       "    </tr>\n",
       "    <tr>\n",
       "      <th>GradientBoostingRegressor</th>\n",
       "      <td>432.180</td>\n",
       "    </tr>\n",
       "    <tr>\n",
       "      <th>Random Forest</th>\n",
       "      <td>546.467</td>\n",
       "    </tr>\n",
       "    <tr>\n",
       "      <th>Support Vector</th>\n",
       "      <td>636.123</td>\n",
       "    </tr>\n",
       "  </tbody>\n",
       "</table>\n",
       "</div>"
      ],
      "text/plain": [
       "                           Root Mean Squared Error\n",
       "Linear Regression                            0.000\n",
       "AdaBoost                                   410.613\n",
       "Decision Tree                              426.233\n",
       "GradientBoostingRegressor                  432.180\n",
       "Random Forest                              546.467\n",
       "Support Vector                             636.123"
      ]
     },
     "execution_count": 81,
     "metadata": {},
     "output_type": "execute_result"
    }
   ],
   "source": [
    "model_performance2 = {\n",
    "                    'Root Mean Squared Error':\n",
    "                    {\n",
    "                        'Linear Regression': lr_rmse,\n",
    "                        'Decision Tree': dtr_rmse,\n",
    "                        'Support Vector': svm_rmse,\n",
    "                        'Random Forest': rf_rmse,\n",
    "                        'GradientBoostingRegressor': gbr_rmse,\n",
    "                        'AdaBoost': ada_rmse\n",
    "                    }\n",
    "}\n",
    "# create dataframe from dictionary\n",
    "model_performance2 = pd.DataFrame(model_performance2)\n",
    "model_performance2.sort_values(by='Root Mean Squared Error',ascending=True)"
   ]
  },
  {
   "cell_type": "code",
   "execution_count": 82,
   "id": "23de112f",
   "metadata": {},
   "outputs": [
    {
     "data": {
      "text/html": [
       "<div>\n",
       "<style scoped>\n",
       "    .dataframe tbody tr th:only-of-type {\n",
       "        vertical-align: middle;\n",
       "    }\n",
       "\n",
       "    .dataframe tbody tr th {\n",
       "        vertical-align: top;\n",
       "    }\n",
       "\n",
       "    .dataframe thead th {\n",
       "        text-align: right;\n",
       "    }\n",
       "</style>\n",
       "<table border=\"1\" class=\"dataframe\">\n",
       "  <thead>\n",
       "    <tr style=\"text-align: right;\">\n",
       "      <th></th>\n",
       "      <th>Mean Absolute Error</th>\n",
       "    </tr>\n",
       "  </thead>\n",
       "  <tbody>\n",
       "    <tr>\n",
       "      <th>Linear Regression</th>\n",
       "      <td>0.000</td>\n",
       "    </tr>\n",
       "    <tr>\n",
       "      <th>Decision Tree</th>\n",
       "      <td>158.760</td>\n",
       "    </tr>\n",
       "    <tr>\n",
       "      <th>GradientBoostingRegressor</th>\n",
       "      <td>174.679</td>\n",
       "    </tr>\n",
       "    <tr>\n",
       "      <th>Random Forest</th>\n",
       "      <td>211.969</td>\n",
       "    </tr>\n",
       "    <tr>\n",
       "      <th>AdaBoost</th>\n",
       "      <td>235.392</td>\n",
       "    </tr>\n",
       "    <tr>\n",
       "      <th>Support Vector</th>\n",
       "      <td>237.131</td>\n",
       "    </tr>\n",
       "  </tbody>\n",
       "</table>\n",
       "</div>"
      ],
      "text/plain": [
       "                           Mean Absolute Error\n",
       "Linear Regression                        0.000\n",
       "Decision Tree                          158.760\n",
       "GradientBoostingRegressor              174.679\n",
       "Random Forest                          211.969\n",
       "AdaBoost                               235.392\n",
       "Support Vector                         237.131"
      ]
     },
     "execution_count": 82,
     "metadata": {},
     "output_type": "execute_result"
    }
   ],
   "source": [
    "model_performance3 = {\n",
    "                    'Mean Absolute Error':\n",
    "                    {\n",
    "                        'Linear Regression': lr_mae,\n",
    "                        'Decision Tree': dtr_mae,\n",
    "                        'Support Vector': svm_mae,\n",
    "                        'Random Forest': rf_mae,\n",
    "                        'GradientBoostingRegressor': gbr_mae,\n",
    "                        'AdaBoost': ada_mae\n",
    "                    }\n",
    "}\n",
    "# create dataframe from dictionary\n",
    "model_performance3 = pd.DataFrame(model_performance3)\n",
    "model_performance3.sort_values(by='Mean Absolute Error',ascending=True)"
   ]
  },
  {
   "cell_type": "markdown",
   "id": "72aabc5e",
   "metadata": {},
   "source": [
    "## Save Best Performing Model as a Pickle File"
   ]
  },
  {
   "cell_type": "code",
   "execution_count": 83,
   "id": "d4e9d2cd",
   "metadata": {},
   "outputs": [],
   "source": [
    "import pickle\n",
    "\n",
    "# store our Linear Regression model in a variable\n",
    "model = lr\n",
    "\n",
    "# Specify the file path where you want to save the model\n",
    "file_path = \"model.pkl\"\n",
    "\n",
    "# Save the model as a pickle file\n",
    "with open(file_path, 'wb') as f:\n",
    "    pickle.dump(model, f)"
   ]
  },
  {
   "cell_type": "code",
   "execution_count": null,
   "id": "7d19114b",
   "metadata": {},
   "outputs": [],
   "source": []
  }
 ],
 "metadata": {
  "kernelspec": {
   "display_name": "Python 3 (ipykernel)",
   "language": "python",
   "name": "python3"
  },
  "language_info": {
   "codemirror_mode": {
    "name": "ipython",
    "version": 3
   },
   "file_extension": ".py",
   "mimetype": "text/x-python",
   "name": "python",
   "nbconvert_exporter": "python",
   "pygments_lexer": "ipython3",
   "version": "3.9.13"
  }
 },
 "nbformat": 4,
 "nbformat_minor": 5
}
